{
 "cells": [
  {
   "cell_type": "code",
   "execution_count": 26,
   "metadata": {},
   "outputs": [],
   "source": [
    "import pickle\n",
    "import pandas as pd\n",
    "import gensim\n",
    "import csv"
   ]
  },
  {
   "cell_type": "code",
   "execution_count": 3,
   "metadata": {},
   "outputs": [],
   "source": [
    "with open('../../data/tensor.pkl', 'rb') as f:\n",
    "    data = pickle.load(f)"
   ]
  },
  {
   "cell_type": "code",
   "execution_count": 27,
   "metadata": {},
   "outputs": [],
   "source": [
    "code_mapper = {}\n",
    "with open('../../data/gwas_names.csv', 'r') as f:\n",
    "    reader = csv.reader(f)\n",
    "    for row in reader:\n",
    "        code = row[0]\n",
    "        name = row[1]\n",
    "        code_mapper[code] = name"
   ]
  },
  {
   "cell_type": "code",
   "execution_count": 35,
   "metadata": {},
   "outputs": [],
   "source": [
    "thresh = 5\n",
    "documents = {}\n",
    "for index, row in data.iterrows():\n",
    "    disease, location = index\n",
    "    for tf, score in row.iteritems():\n",
    "        if abs(score) > thresh:\n",
    "            disease_name = code_mapper.get(disease, disease)\n",
    "            doc_key = str((location,tf))\n",
    "            word_key = str(disease_name)\n",
    "            if doc_key not in documents:\n",
    "                documents[doc_key] = []\n",
    "            documents[doc_key].append(word_key)\n",
    "    "
   ]
  },
  {
   "cell_type": "code",
   "execution_count": 36,
   "metadata": {},
   "outputs": [],
   "source": [
    "num_topics = 20\n",
    "dct = gensim.corpora.Dictionary(documents.values())\n",
    "corpus = [dct.doc2bow(text) for text in documents.values()]\n",
    "lda = gensim.models.LdaModel(corpus, num_topics=num_topics, id2word=dct)"
   ]
  },
  {
   "cell_type": "code",
   "execution_count": 38,
   "metadata": {},
   "outputs": [
    {
     "name": "stdout",
     "output_type": "stream",
     "text": [
      "Topic: 0 Word: 0.500*\"Non-cancer illness code- self-reported: epilepsy\" + 0.097*\"Irritability\" + 0.053*\"Cancer code- self-reported: large bowel cancer/colorectal cancer\" + 0.035*\"Sensitivity / hurt feelings\" + 0.029*\"Skin colour\" + 0.019*\"Non-cancer illness code- self-reported: liver/biliary/pancreas problem\" + 0.018*\"Current tobacco smoking\" + 0.016*\"Mood swings\" + 0.014*\"Time spend outdoors in summer\" + 0.013*\"Non-cancer illness code- self-reported: hypertension\"\n",
      "Topic: 1 Word: 0.127*\"Sleeplessness / insomnia\" + 0.119*\"Mood swings\" + 0.086*\"Handedness (chirality/laterality): Right-handed\" + 0.068*\"Miserableness\" + 0.061*\"Time spend outdoors in summer\" + 0.054*\"Facial ageing\" + 0.037*\"Sleep duration\" + 0.034*\"Irritability\" + 0.034*\"Frequency of friend/family visits\" + 0.029*\"Alcohol intake frequency.\"\n",
      "Topic: 2 Word: 0.200*\"Skin colour\" + 0.168*\"Ease of skin tanning\" + 0.095*\"Morning/evening person (chronotype)\" + 0.041*\"Miserableness\" + 0.027*\"Nap during day\" + 0.026*\"Length of mobile phone use\" + 0.025*\"Sensitivity / hurt feelings\" + 0.024*\"Non-cancer illness code- self-reported: hypertension\" + 0.024*\"Mood swings\" + 0.023*\"Cancer code- self-reported: skin cancer\"\n",
      "Topic: 3 Word: 0.402*\"Non-cancer illness code- self-reported: hepatitis\" + 0.161*\"Non-cancer illness code- self-reported: migraine\" + 0.077*\"Non-cancer illness code- self-reported: bladder problem (not cancer)\" + 0.064*\"Non-cancer illness code- self-reported: diabetes\" + 0.047*\"Non-cancer illness code- self-reported: irritable bowel syndrome\" + 0.032*\"Cancer code- self-reported: skin cancer\" + 0.019*\"Time spend outdoors in summer\" + 0.013*\"Non-cancer illness code- self-reported: stroke\" + 0.012*\"Nap during day\" + 0.012*\"Non-cancer illness code- self-reported: cardiomyopathy\"\n",
      "Topic: 4 Word: 0.158*\"Cancer code- self-reported: prostate cancer\" + 0.104*\"Drive faster than motorway speed limit\" + 0.096*\"Sleep duration\" + 0.086*\"Alcohol intake frequency.\" + 0.081*\"Non-cancer illness code- self-reported: heart attack/myocardial infarction\" + 0.033*\"Sensitivity / hurt feelings\" + 0.028*\"Cancer code- self-reported: large bowel cancer/colorectal cancer\" + 0.026*\"Non-cancer illness code- self-reported: angina\" + 0.026*\"Nap during day\" + 0.025*\"Irritability\"\n",
      "Topic: 5 Word: 0.132*\"Cancer code- self-reported: lung cancer\" + 0.073*\"Cancer code- self-reported: skin cancer\" + 0.057*\"Cancer code- self-reported: larynx/throat cancer\" + 0.050*\"Sleeplessness / insomnia\" + 0.046*\"Cancer code- self-reported: breast cancer\" + 0.044*\"Non-cancer illness code- self-reported: cardiomyopathy\" + 0.041*\"Cancer code- self-reported: prostate cancer\" + 0.036*\"Irritability\" + 0.035*\"Alcohol intake frequency.\" + 0.034*\"Non-cancer illness code- self-reported: heart arrhythmia\"\n",
      "Topic: 6 Word: 0.544*\"Non-cancer illness code- self-reported: parkinsons disease\" + 0.187*\"Non-cancer illness code- self-reported: bladder problem (not cancer)\" + 0.071*\"Non-cancer illness code- self-reported: heart arrhythmia\" + 0.021*\"Length of mobile phone use\" + 0.016*\"Non-cancer illness code- self-reported: diabetes\" + 0.013*\"Non-cancer illness code- self-reported: liver/biliary/pancreas problem\" + 0.009*\"Time spend outdoors in summer\" + 0.008*\"Non-cancer illness code- self-reported: peripheral vascular disease\" + 0.007*\"Cancer code- self-reported: lung cancer\" + 0.007*\"Drive faster than motorway speed limit\"\n",
      "Topic: 7 Word: 0.254*\"Non-cancer illness code- self-reported: cardiomyopathy\" + 0.068*\"Non-cancer illness code- self-reported: sleep apnoea\" + 0.048*\"Ease of skin tanning\" + 0.044*\"Non-cancer illness code- self-reported: stroke\" + 0.041*\"Length of mobile phone use\" + 0.040*\"Mood swings\" + 0.039*\"Non-cancer illness code- self-reported: asthma\" + 0.034*\"Facial ageing\" + 0.030*\"Fruit consumers\" + 0.029*\"Cancer code- self-reported: large bowel cancer/colorectal cancer\"\n",
      "Topic: 8 Word: 0.128*\"Non-cancer illness code- self-reported: hypertension\" + 0.104*\"Miserableness\" + 0.083*\"Cancer code- self-reported: leukaemia\" + 0.078*\"Cancer code- self-reported: larynx/throat cancer\" + 0.057*\"Cancer code- self-reported: large bowel cancer/colorectal cancer\" + 0.051*\"Mood swings\" + 0.038*\"Time spent doing vigorous physical activity\" + 0.036*\"Nap during day\" + 0.032*\"Cancer code- self-reported: lung cancer\" + 0.031*\"Non-cancer illness code- self-reported: cardiomyopathy\"\n",
      "Topic: 9 Word: 0.332*\"Non-cancer illness code- self-reported: sleep apnoea\" + 0.082*\"Current tobacco smoking\" + 0.061*\"Non-cancer illness code- self-reported: hepatitis\" + 0.042*\"Sweets intake\" + 0.027*\"Non-cancer illness code- self-reported: stomach disorder\" + 0.027*\"Sensitivity / hurt feelings\" + 0.026*\"Frequency of light DIY in last 4 weeks\" + 0.024*\"Cancer code- self-reported: skin cancer\" + 0.022*\"Coffee consumed\" + 0.022*\"Miserableness\"\n",
      "Topic: 10 Word: 0.469*\"Non-cancer illness code- self-reported: multiple sclerosis\" + 0.160*\"Non-cancer illness code- self-reported: irritable bowel syndrome\" + 0.152*\"Non-cancer illness code- self-reported: liver/biliary/pancreas problem\" + 0.032*\"Non-cancer illness code- self-reported: stomach disorder\" + 0.022*\"Non-cancer illness code- self-reported: thyroid problem (not cancer)\" + 0.020*\"Non-cancer illness code- self-reported: hepatitis\" + 0.014*\"Morning/evening person (chronotype)\" + 0.011*\"Non-cancer illness code- self-reported: bladder problem (not cancer)\" + 0.010*\"Non-cancer illness code- self-reported: cardiomyopathy\" + 0.007*\"Non-cancer illness code- self-reported: diabetes\"\n",
      "Topic: 11 Word: 0.170*\"Non-cancer illness code- self-reported: heart/cardiac problem\" + 0.149*\"Non-cancer illness code- self-reported: heart attack/myocardial infarction\" + 0.077*\"Non-cancer illness code- self-reported: irritable bowel syndrome\" + 0.035*\"Nap during day\" + 0.032*\"Cancer code- self-reported: prostate cancer\" + 0.032*\"Current tobacco smoking\" + 0.029*\"Handedness (chirality/laterality): Right-handed\" + 0.027*\"Time spend outdoors in summer\" + 0.026*\"Time spent doing vigorous physical activity\" + 0.025*\"Non-cancer illness code- self-reported: hypertension\"\n",
      "Topic: 12 Word: 0.310*\"Non-cancer illness code- self-reported: depression\" + 0.125*\"Non-cancer illness code- self-reported: anxiety/panic attacks\" + 0.037*\"20544_2\" + 0.032*\"Non-cancer illness code- self-reported: deliberate self-harm/suicide attempt\" + 0.029*\"Non-cancer illness code- self-reported: nervous breakdown\" + 0.027*\"Non-cancer illness code- self-reported: schizophrenia\" + 0.024*\"Alcohol intake frequency.\" + 0.019*\"Morning/evening person (chronotype)\" + 0.018*\"Nap during day\" + 0.018*\"Facial ageing\"\n",
      "Topic: 13 Word: 0.248*\"Non-cancer illness code- self-reported: angina\" + 0.134*\"Non-cancer illness code- self-reported: peripheral vascular disease\" + 0.091*\"Pulse rate- automated reading\" + 0.056*\"Non-cancer illness code- self-reported: stroke\" + 0.054*\"Non-cancer illness code- self-reported: hypertension\" + 0.049*\"Non-cancer illness code- self-reported: heart attack/myocardial infarction\" + 0.026*\"Current tobacco smoking\" + 0.026*\"Alcohol intake frequency.\" + 0.021*\"Drive faster than motorway speed limit\" + 0.018*\"Morning/evening person (chronotype)\"\n",
      "Topic: 14 Word: 0.133*\"Sensitivity / hurt feelings\" + 0.126*\"Non-cancer illness code- self-reported: hypertension\" + 0.075*\"Time spent driving\" + 0.064*\"Cancer code- self-reported: breast cancer\" + 0.048*\"Morning/evening person (chronotype)\" + 0.046*\"Alcohol intake frequency.\" + 0.040*\"Current tobacco smoking\" + 0.038*\"Mood swings\" + 0.033*\"Drive faster than motorway speed limit\" + 0.028*\"Time spend outdoors in summer\"\n",
      "Topic: 15 Word: 0.315*\"Non-cancer illness code- self-reported: asthma\" + 0.068*\"Non-cancer illness code- self-reported: thyroid problem (not cancer)\" + 0.032*\"Morning/evening person (chronotype)\" + 0.032*\"Ease of skin tanning\" + 0.031*\"Non-cancer illness code- self-reported: hypertension\" + 0.028*\"Skin colour\" + 0.023*\"Non-cancer illness code- self-reported: peripheral vascular disease\" + 0.023*\"Drive faster than motorway speed limit\" + 0.022*\"Nap during day\" + 0.021*\"Non-cancer illness code- self-reported: heart attack/myocardial infarction\"\n",
      "Topic: 16 Word: 0.115*\"Frequency of friend/family visits\" + 0.100*\"Nap during day\" + 0.067*\"Cancer code- self-reported: leukaemia\" + 0.061*\"Fruit consumers\" + 0.034*\"Cancer code- self-reported: lung cancer\" + 0.033*\"Cancer code- self-reported: larynx/throat cancer\" + 0.031*\"Frequency of light DIY in last 4 weeks\" + 0.031*\"Current tobacco smoking\" + 0.030*\"Drive faster than motorway speed limit\" + 0.029*\"Ease of skin tanning\"\n",
      "Topic: 17 Word: 0.641*\"Non-cancer illness code- self-reported: thyroid problem (not cancer)\" + 0.063*\"Non-cancer illness code- self-reported: stroke\" + 0.027*\"Non-cancer illness code- self-reported: bladder problem (not cancer)\" + 0.023*\"Non-cancer illness code- self-reported: liver/biliary/pancreas problem\" + 0.017*\"Cancer code- self-reported: leukaemia\" + 0.014*\"Skin colour\" + 0.013*\"Sweets intake\" + 0.013*\"Fruit consumers\" + 0.013*\"Sleep duration\" + 0.011*\"Cancer code- self-reported: breast cancer\"\n",
      "Topic: 18 Word: 0.461*\"Non-cancer illness code- self-reported: diabetes\" + 0.145*\"Non-cancer illness code- self-reported: stomach disorder\" + 0.059*\"Non-cancer illness code- self-reported: bladder problem (not cancer)\" + 0.026*\"Non-cancer illness code- self-reported: irritable bowel syndrome\" + 0.022*\"Non-cancer illness code- self-reported: asthma\" + 0.019*\"Non-cancer illness code- self-reported: hepatitis\" + 0.015*\"Time spent driving\" + 0.015*\"Non-cancer illness code- self-reported: hypertension\" + 0.014*\"Non-cancer illness code- self-reported: stroke\" + 0.013*\"Non-cancer illness code- self-reported: liver/biliary/pancreas problem\"\n",
      "Topic: 19 Word: 0.248*\"Cancer code- self-reported: malignant melanoma\" + 0.100*\"Facial ageing\" + 0.040*\"Morning/evening person (chronotype)\" + 0.034*\"Alcohol intake frequency.\" + 0.034*\"Nap during day\" + 0.032*\"Skin colour\" + 0.029*\"Current tobacco smoking\" + 0.026*\"Alcohol consumed\" + 0.026*\"Drive faster than motorway speed limit\" + 0.025*\"Non-cancer illness code- self-reported: heart/cardiac problem\"\n"
     ]
    }
   ],
   "source": [
    "for idx, topic in lda.print_topics(-1):\n",
    "    print('Topic: {} Word: {}'.format(idx, topic))"
   ]
  },
  {
   "cell_type": "code",
   "execution_count": null,
   "metadata": {},
   "outputs": [],
   "source": []
  }
 ],
 "metadata": {
  "kernelspec": {
   "display_name": "Python 3",
   "language": "python",
   "name": "python3"
  },
  "language_info": {
   "codemirror_mode": {
    "name": "ipython",
    "version": 3
   },
   "file_extension": ".py",
   "mimetype": "text/x-python",
   "name": "python",
   "nbconvert_exporter": "python",
   "pygments_lexer": "ipython3",
   "version": "3.6.7"
  }
 },
 "nbformat": 4,
 "nbformat_minor": 2
}
